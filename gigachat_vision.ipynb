{
 "cells": [
  {
   "cell_type": "markdown",
   "metadata": {
    "collapsed": false
   },
   "source": [
    "# Работа с GigaChat Vision\n",
    "В этом ноутбуке мы рассмотрим работу с GigaChat Vision\n",
    "\n",
    "Наши действия:\n",
    "1. Загружаем фото на S3 хранилище GigaChat\n",
    "2. Просим GigaChat проанализировать фотографии, выделить сущности на них и написать описание к фото\n",
    "3. Выдать ответ в виде JSON, после чего преобразуем этот JSON в Pydantic модель\n",
    "\n",
    "Тестировать будем на этих фото\n",
    "![фото 1](cat.jpg)\n",
    "![фото 2](sea.jpg)"
   ]
  },
  {
   "cell_type": "code",
   "metadata": {
    "ExecuteTime": {
     "end_time": "2024-11-08T20:09:52.822876Z",
     "start_time": "2024-11-08T20:09:49.858745Z"
    }
   },
   "source": "",
   "outputs": [
    {
     "name": "stderr",
     "output_type": "stream",
     "text": [
      "\n",
      "[notice] A new release of pip available: 22.3 -> 24.3.1\n",
      "[notice] To update, run: python.exe -m pip install --upgrade pip\n"
     ]
    }
   ],
   "execution_count": 3
  },
  {
   "cell_type": "code",
   "metadata": {
    "collapsed": true,
    "ExecuteTime": {
     "end_time": "2024-11-08T22:52:04.921953Z",
     "start_time": "2024-11-08T22:52:04.410693Z"
    }
   },
   "source": [
    "from langchain_gigachat.chat_models.gigachat import GigaChat\n",
    "llm = GigaChat(\n",
    "    credentials=\"MTEwMzY1YmEtMzYzMy00YWQ1LThmMTQtNWEzODM0NzUwN2IwOjU2ZDlkOGY1LWU0MDUtNDQ2Ni1hNTQyLWU5N2M4MzJmY2FmOA==\",\n",
    "    verify_ssl_certs=False,\n",
    "    timeout=6000,\n",
    "    model=\"GigaChat-Pro-preview\",\n",
    "    base_url=\"https://gigachat-preview.devices.sberbank.ru/api/v1\"\n",
    ")"
   ],
   "outputs": [],
   "execution_count": 1
  },
  {
   "cell_type": "code",
   "metadata": {
    "collapsed": false,
    "ExecuteTime": {
     "end_time": "2024-11-08T22:52:04.957340Z",
     "start_time": "2024-11-08T22:52:04.927960Z"
    }
   },
   "source": [
    "from typing import List, Optional\n",
    "from langchain.output_parsers import PydanticOutputParser\n",
    "from langchain_core.messages import HumanMessage\n",
    "from langchain_core.prompts import ChatPromptTemplate, MessagesPlaceholder\n",
    "from pydantic import BaseModel, Field, validator\n",
    "from langchain_core.runnables import RunnableLambda, RunnableParallel\n",
    "\n",
    "\n",
    "class Photo(BaseModel):\n",
    "    \"\"\"Информация о фото\"\"\"\n",
    "\n",
    "    content: str = Field(..., description=\"Что изображено на фото? 1-3 слова\")\n",
    "    description: str = Field(..., description=\"Опиши детальнее фото\")\n",
    "\n",
    "\n",
    "# Set up a parser\n",
    "parser = PydanticOutputParser(pydantic_object=Photo)\n",
    "\n",
    "\n",
    "def _get_messages_from_url(url: str):\n",
    "    return {\n",
    "        \"history\": [\n",
    "            HumanMessage(content=\"\", additional_kwargs={\"attachments\": [url]}),\n",
    "        ]\n",
    "    }\n",
    "\n",
    "\n",
    "# Prompt\n",
    "prompt = ChatPromptTemplate.from_messages(\n",
    "    [\n",
    "        (\n",
    "            \"system\",\n",
    "            #\"Определи содержимое на фото. Ответь на запрос пользователя в формате JSON. Schema Information: \\n{format_instructions}\",\n",
    "            \"Определи содержимое на фото.\",\n",
    "        ),\n",
    "        MessagesPlaceholder(\"history\"),\n",
    "    ]\n",
    ").partial(format_instructions=parser.get_format_instructions())\n",
    "\n",
    "chain = RunnableLambda(_get_messages_from_url) | prompt | llm #| parser"
   ],
   "outputs": [],
   "execution_count": 2
  },
  {
   "cell_type": "markdown",
   "metadata": {
    "collapsed": false
   },
   "source": [
    "В итоге мы создали LCEL цепочку, в которую мы можем передавать id загруженных файлов и в ответ получать Pydantic модели"
   ]
  },
  {
   "cell_type": "code",
   "metadata": {
    "collapsed": false,
    "ExecuteTime": {
     "end_time": "2024-11-08T22:52:50.213439Z",
     "start_time": "2024-11-08T22:52:32.370407Z"
    }
   },
   "source": [
    "# Пример работы\n",
    "\n",
    "file1 = llm.upload_file(open(\"chart1.jpg\", \"rb\"))\n",
    "file2 = llm.upload_file(open(\"chart2.jpg\", \"rb\"))\n",
    "file3 = llm.upload_file(open(\"chart3.jpg\", \"rb\"))\n",
    "chain.batch([file1.id_, file2.id_, file3.id_])\n"
   ],
   "outputs": [
    {
     "data": {
      "text/plain": [
       "[AIMessage(content='Mobile Gaming, PC/Mac Gaming, Home Consoles, Handheld Consoles', additional_kwargs={}, response_metadata={'token_usage': Usage(prompt_tokens=1300, completion_tokens=20, total_tokens=1320), 'model_name': 'GigaChat-Pro-preview:1.0.26.15', 'finish_reason': 'stop'}, id='run-6dcda024-1784-4b90-834b-d27f51440678-0'),\n",
       " AIMessage(content=\"The chart displays data on consumer spending shares on games across different platforms and regions for two periods: Q1 2023 versus Q1 2024, and Q1 2023 to Q1 2024. The legend at the bottom indicates that each color represents a specific region: North America (blue), Western Europe (orange), Asia-Pacific (green), and Rest of World (purple).\\n\\nThe top part of the chart shows mobile gaming spending share trends by region over the given time period. In Q1 2023, North America had a 5.4% share, which increased to 6.2% in Q1 2024. Similarly, Western Europe's share went from 9.4% to 10.1%. Asia-Pacific saw an increase from 30.4% to 34.0%, while the Rest of the World experienced a decrease from 48.0% to 43.7%. Overall, there was an increase of +3.6 pts in mobile gaming spend shares globally.\\n\\nMoving down to handheld game console spending, North American consumers' share decreased slightly from 11.8% to 10.6%, while Western European consumers saw their share rise from 25.9% to 25.9%. Asia-Pacific remained stable at 34.3%, and the Rest of World experienced an increase in its share from 17.2% to 19.4%. The global trend showed an increase in spending of +4.1 pts compared to the previous year.\\n\\nFor PC & Mac gaming, North Americans' share rose from 19.4% to 20.1%, Western Europeans' share stayed consistent at 21.1%, and both Asia-Pacific and the rest of the world's shares dipped from 43.4% to 43.9%, respectively. The overall global share saw a small decline of -.5 pts during this period.\\n\\nFinally, for home game consoles, all regions except Western Europe experienced slight increases in their shares. North America went from having a 33.2% share to 32.4%, Asia-Pacific increased from 11.6% to 12.0%, and the Rest of World grew from 11.7% to 11.7%, mirroring the same stability observed earlier. The global share also saw a slight increase of +1.1pts.\", additional_kwargs={}, response_metadata={'token_usage': Usage(prompt_tokens=1300, completion_tokens=569, total_tokens=1869), 'model_name': 'GigaChat-Pro-preview:1.0.26.15', 'finish_reason': 'stop'}, id='run-e70b22ad-f553-4fd8-af9b-57ba9bf8d929-0'),\n",
       " AIMessage(content='График', additional_kwargs={}, response_metadata={'token_usage': Usage(prompt_tokens=1300, completion_tokens=3, total_tokens=1303), 'model_name': 'GigaChat-Pro-preview:1.0.26.15', 'finish_reason': 'stop'}, id='run-27771d2a-9fc4-40d6-8379-e819ade1c985-0')]"
      ]
     },
     "execution_count": 4,
     "metadata": {},
     "output_type": "execute_result"
    }
   ],
   "execution_count": 4
  },
  {
   "cell_type": "markdown",
   "metadata": {
    "collapsed": false
   },
   "source": []
  },
  {
   "metadata": {
    "ExecuteTime": {
     "end_time": "2024-11-08T22:39:39.119865400Z",
     "start_time": "2024-11-08T22:26:32.010125Z"
    }
   },
   "cell_type": "code",
   "source": [
    "\"\"\"\n",
    "file1 = llm.upload_file(open(\"chart1.jpg\", \"rb\"))\n",
    "chain.batch([file1.id_])\n",
    "\"\"\""
   ],
   "outputs": [],
   "execution_count": null
  },
  {
   "metadata": {
    "ExecuteTime": {
     "end_time": "2024-11-08T22:26:32.642440Z",
     "start_time": "2024-11-08T22:26:32.640726Z"
    }
   },
   "cell_type": "code",
   "source": "",
   "outputs": [],
   "execution_count": null
  },
  {
   "metadata": {},
   "cell_type": "code",
   "outputs": [],
   "execution_count": null,
   "source": ""
  }
 ],
 "metadata": {
  "kernelspec": {
   "display_name": "venv",
   "language": "python",
   "name": "python3"
  },
  "language_info": {
   "codemirror_mode": {
    "name": "ipython",
    "version": 3
   },
   "file_extension": ".py",
   "mimetype": "text/x-python",
   "name": "python",
   "nbconvert_exporter": "python",
   "pygments_lexer": "ipython3",
   "version": "3.12.5"
  }
 },
 "nbformat": 4,
 "nbformat_minor": 0
}
