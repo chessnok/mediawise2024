{
 "cells": [
  {
   "metadata": {
    "ExecuteTime": {
     "end_time": "2024-11-09T22:52:52.074043Z",
     "start_time": "2024-11-09T22:52:22.887322Z"
    }
   },
   "cell_type": "code",
   "source": [
    "from marker.convert import convert_single_pdf\n",
    "from marker.models import load_all_models\n",
    "\n",
    "\n",
    "model_lst = load_all_models()\n",
    "#fpath = \"train_data_mediawise/Media_Digital/35.pdf\"\n",
    "#full_text, images, out_meta = convert_single_pdf(fpath, model_lst)\n"
   ],
   "id": "db31d0e277344f1b",
   "outputs": [
    {
     "name": "stdout",
     "output_type": "stream",
     "text": [
      "Loaded detection model vikp/surya_det3 on device cuda with dtype torch.float16\n",
      "Loaded detection model vikp/surya_layout3 on device cuda with dtype torch.float16\n",
      "Loaded reading order model vikp/surya_order on device cuda with dtype torch.float16\n",
      "Loaded recognition model vikp/surya_rec2 on device cuda with dtype torch.float16\n",
      "Loaded texify model to cuda with torch.float16 dtype\n",
      "Loaded recognition model vikp/surya_tablerec on device cuda with dtype torch.float16\n"
     ]
    }
   ],
   "execution_count": 1
  },
  {
   "metadata": {
    "jupyter": {
     "is_executing": true
    },
    "ExecuteTime": {
     "start_time": "2024-11-09T22:52:52.096547Z"
    }
   },
   "cell_type": "code",
   "source": [
    "import os\n",
    "\n",
    "# Путь к папкам\n",
    "files_dir = \"files\"\n",
    "md_dir = \"md\"\n",
    "\n",
    "# Получаем список всех PDF-файлов в папке files\n",
    "pdf_files = [f for f in os.listdir(files_dir) if f.endswith('.pdf')]\n",
    "\n",
    "# Получаем список всех TXT-файлов в папке md (с удалением расширения)\n",
    "txt_files = {f.split(\"_\")[0] for f in os.listdir(md_dir) if f.endswith('.txt')}\n",
    "\n",
    "# Проверяем для каждого PDF-файла наличие соответствующего TXT-файла\n",
    "pdf_without_txt = []\n",
    "for pdf in pdf_files:\n",
    "    if os.path.splitext(pdf)[0] not in txt_files:\n",
    "        pdf_without_txt.append(pdf)\n",
    "\n",
    "# Выводим результат\n",
    "print(\"PDF файлы без соответствующих TXT файлов в папке md:\")\n",
    "for pdf in pdf_without_txt[:2]:\n",
    "    name = pdf[:-4]\n",
    "    full_text, images, out_meta = convert_single_pdf(files_dir+\"/\"+pdf, model_lst, langs=[\"English\", \"Russian\"])\n",
    "    print(full_text, images, out_meta)\n",
    "    tmp_full_text = full_text.lower()\n",
    "    last_start = 0\n",
    "    for computed in out_meta[\"computed_toc\"]:\n",
    "        find_start = \"#\"+\" \"+computed[\"title\"].lower().split(\"\\n\")[0]\n",
    "        start = tmp_full_text.find(find_start)\n",
    "        text = full_text[last_start:start] \n",
    "            \n",
    "        print(\"--------------------------------\")\n",
    "        print(last_start, start)\n",
    "        #print(text)\n",
    "        \n",
    "        \n",
    "        last_start = start\n",
    "        page = computed[\"page\"]\n",
    "        print(page)\n",
    "        output_text_file = os.path.join(md_dir, f\"{name}_{page}.txt\")\n",
    "        with open(output_text_file, \"w\", encoding=\"utf-8\") as text_file:\n",
    "            text_file.write(text)"
   ],
   "id": "faf697ced86dc9d0",
   "outputs": [
    {
     "name": "stdout",
     "output_type": "stream",
     "text": [
      "PDF файлы без соответствующих TXT файлов в папке md:\n"
     ]
    },
    {
     "name": "stderr",
     "output_type": "stream",
     "text": [
      "Detecting bboxes: 100%|██████████| 3/3 [00:01<00:00,  1.99it/s]\n",
      "Recognizing Text: 100%|██████████| 1/1 [00:00<00:00,  2.40it/s]\n",
      "Detecting bboxes: 100%|██████████| 2/2 [00:01<00:00,  1.53it/s]\n",
      "Finding reading order: 100%|██████████| 2/2 [00:00<00:00,  2.11it/s]\n",
      "Recognizing tables: 0it [00:00, ?it/s]\n"
     ]
    },
    {
     "name": "stdout",
     "output_type": "stream",
     "text": [
      "\n",
      "\n",
      "![0_image_0.png](0_image_0.png)\n",
      "\n",
      "14 ноября 2023 Дубин \n",
      "\n",
      "![1_image_0.png](1_image_0.png)\n",
      "\n",
      "![1_image_1.png](1_image_1.png) Сергей Digital Director RX CODE - >10 лет в фармацевтическом и digital маркетинге\n",
      "- CDO, CPO\n",
      "ЭКОСИСТЕМА \n",
      "\n",
      "![2_image_0.png](2_image_0.png)\n",
      "\n",
      "Первые шаги к общему будущему\n",
      "\n",
      "# Что Маркетологи Хотят Знать О Враче \n",
      "\n",
      "![3_Image_0.Png](3_Image_0.Png)\n",
      "\n",
      "![3_Image_1.Png](3_Image_1.Png) В 2023Г.?\n",
      "\n",
      "1. Площадки присутствия в интернете 2. Интерес к препаратам 3. Нагрузка и давление в каналах 4. Интерес к МКБ-10 5. Глубина вовлечения Главное!\n",
      "\n",
      "не попасть в бездонную яму противоречивой информации\n",
      "\n",
      "# Что На Данный Момент Есть На Рынке?\n",
      "\n",
      "![4_Image_0.Png](4_Image_0.Png)\n",
      "\n",
      "Customer Data Platforms\n",
      "\n",
      "![4_image_1.png](4_image_1.png)\n",
      "\n",
      "Каналы в digital: - OR%\n",
      "- CR% - глубина потребления\n",
      "- NPS\n",
      "более 247 тысяч специалистов Проф. интересы: - ATX\n",
      "- МКБ-10 - Форматы \n",
      "\n",
      "# Что На Данный Момент Есть На Рынке?\n",
      "\n",
      "![5_Image_0.Png](5_Image_0.Png)\n",
      "\n",
      "![5_image_4.png](5_image_4.png)\n",
      "\n",
      "![5_image_8.png](5_image_8.png)\n",
      "\n",
      "Одно окно коммуникации со всеми участниками партнерства\n",
      "\n",
      "![5_image_1.png](5_image_1.png)\n",
      "\n",
      "![5_image_7.png](5_image_7.png)\n",
      "\n",
      "Стандартизированный \n",
      "\n",
      "![5_image_2.png](5_image_2.png)\n",
      "\n",
      "подход к отчетам на базу Google Analytics 3. \n",
      "\n",
      "Осуществлять оплату \n",
      "\n",
      "![5_image_5.png](5_image_5.png)\n",
      "\n",
      "только результативных контактов с брендом без \n",
      "«лишних» наценок\n",
      "\n",
      "![5_image_3.png](5_image_3.png)\n",
      "\n",
      "![5_image_6.png](5_image_6.png)\n",
      "\n",
      "Предоставить максимальный охват проектов без лишнего согласования до 90% охвата ЦА силами партнерства \n",
      "\n",
      "# К Чему Мы Движемся?\n",
      "\n",
      "![6_Image_0.Png](6_Image_0.Png)\n",
      "\n",
      "1. **Единая база с информацией по** \n",
      "пересечению между всеми участниками экосистемы 2. **Привязка всех врачей к единому ID и** \n",
      "дальнейшее взаимообмен данными между участниками 3. **Получение вознаграждения каждым** \n",
      "источником информации за обогащение общей базы 4. Доступ любого клиента к сервису пересечения, сверки и обогащения из единого источника «Мастер базы»\n",
      "\n",
      "![6_image_1.png](6_image_1.png)\n",
      "\n",
      "![6_image_2.png](6_image_2.png)\n",
      "\n",
      "Digital **База HCP**\n",
      "\n",
      "![6_image_3.png](6_image_3.png)\n",
      "\n",
      "Мастер База HCP \n",
      "\n",
      "![6_image_4.png](6_image_4.png)\n",
      "\n",
      "![6_image_5.png](6_image_5.png)\n",
      "\n",
      "Эхо-система\n",
      "\n",
      "![6_image_6.png](6_image_6.png)\n",
      "\n",
      "CDP IQVIA AlphaRM ID360\n",
      "# К Чему Мы Движемся?\n",
      "\n",
      "![7_Image_0.Png](7_Image_0.Png)\n",
      "\n",
      "1. **Единая база с информацией по** \n",
      "пересечению между всеми участниками экосистемы 2. **Привязка всех врачей к единому ID и** \n",
      "дальнейшее взаимообмен данными между участниками 3. **Получение вознаграждения каждым** \n",
      "источником информации за обогащение общей базы 4. Доступ любого клиента к сервису пересечения, сверки и обогащения из единого источника «Мастер базы»\n",
      "\n",
      "Эхо-система\n",
      "\n",
      "![7_image_3.png](7_image_3.png)\n",
      "\n",
      "![7_image_4.png](7_image_4.png)\n",
      "\n",
      "CDP IQVIA AlphaRM **ID360**\n",
      "Master Base клиента\n",
      "\n",
      "![7_image_1.png](7_image_1.png)\n",
      "\n",
      "![7_image_2.png](7_image_2.png)\n",
      "\n",
      "Спасибо за \n",
      "\n",
      "![8_image_0.png](8_image_0.png)\n",
      "\n",
      "![8_image_1.png](8_image_1.png) внимание!\n",
      "\n",
      "Дубин Сергей {'0_image_0.png': <PIL.Image.Image image mode=RGB size=668x433 at 0x1D79332E350>, '1_image_0.png': <PIL.Image.Image image mode=RGB size=575x483 at 0x1D793279950>, '1_image_1.png': <PIL.Image.Image image mode=RGB size=420x410 at 0x1D79323A210>, '2_image_0.png': <PIL.Image.Image image mode=RGB size=249x174 at 0x1D793279990>, '3_image_0.png': <PIL.Image.Image image mode=RGB size=251x185 at 0x1D7932F2F10>, '3_image_1.png': <PIL.Image.Image image mode=RGB size=672x362 at 0x1D793371910>, '4_image_0.png': <PIL.Image.Image image mode=RGB size=251x182 at 0x1D76ED2A250>, '4_image_1.png': <PIL.Image.Image image mode=RGB size=313x115 at 0x1D7932FF910>, '5_image_0.png': <PIL.Image.Image image mode=RGB size=243x169 at 0x1D7932F3910>, '5_image_1.png': <PIL.Image.Image image mode=RGB size=243x106 at 0x1D7932F03D0>, '5_image_2.png': <PIL.Image.Image image mode=RGB size=238x134 at 0x1D7932F0CD0>, '5_image_3.png': <PIL.Image.Image image mode=RGB size=208x130 at 0x1D6B2ECF850>, '5_image_4.png': <PIL.Image.Image image mode=RGB size=206x124 at 0x1D7932FFE10>, '5_image_5.png': <PIL.Image.Image image mode=RGB size=210x120 at 0x1D7932FE890>, '5_image_6.png': <PIL.Image.Image image mode=RGB size=54x32 at 0x1D7932FFC50>, '5_image_7.png': <PIL.Image.Image image mode=RGB size=47x26 at 0x1D7932FDC50>, '5_image_8.png': <PIL.Image.Image image mode=RGB size=33x22 at 0x1D7932FC090>, '6_image_0.png': <PIL.Image.Image image mode=RGB size=247x174 at 0x1D793351FD0>, '6_image_1.png': <PIL.Image.Image image mode=RGB size=146x37 at 0x1D6B2EB13D0>, '6_image_2.png': <PIL.Image.Image image mode=RGB size=548x273 at 0x1D793352110>, '6_image_3.png': <PIL.Image.Image image mode=RGB size=181x45 at 0x1D793351610>, '6_image_4.png': <PIL.Image.Image image mode=RGB size=173x31 at 0x1D7932FD1D0>, '6_image_5.png': <PIL.Image.Image image mode=RGB size=341x44 at 0x1D794B42350>, '6_image_6.png': <PIL.Image.Image image mode=RGB size=86x34 at 0x1D794B40BD0>, '7_image_0.png': <PIL.Image.Image image mode=RGB size=247x175 at 0x1D7932D3890>, '7_image_1.png': <PIL.Image.Image image mode=RGB size=656x485 at 0x1D7932D39D0>, '7_image_2.png': <PIL.Image.Image image mode=RGB size=47x26 at 0x1D7932D3950>, '7_image_3.png': <PIL.Image.Image image mode=RGB size=359x37 at 0x1D793370BD0>, '7_image_4.png': <PIL.Image.Image image mode=RGB size=120x39 at 0x1D7933733D0>, '8_image_0.png': <PIL.Image.Image image mode=RGB size=596x582 at 0x1D794B413D0>, '8_image_1.png': <PIL.Image.Image image mode=RGB size=441x422 at 0x1D7932FCF90>} {'languages': ['en', 'ru'], 'filetype': 'pdf', 'pdf_toc': [], 'pages': 9, 'ocr_stats': {'ocr_pages': 1, 'ocr_failed': 0, 'ocr_success': 1, 'ocr_engine': 'surya'}, 'block_stats': {'header_footer': 0, 'code': 0, 'table': 0, 'equations': {'successful_ocr': 0, 'unsuccessful_ocr': 0, 'equations': 0}}, 'computed_toc': [{'title': 'Что маркетологи хотят знать о враче \\n\\n![3_image_0.png](3_image_0.png)\\n\\n\\n\\n![3_image_1.png](3_image_1.png)\\n\\n\\nв 2023г.?', 'level': 1, 'page': 3}, {'title': 'Что на данный момент есть на рынке?\\n\\n![4_image_0.png](4_image_0.png)\\n\\n', 'level': 1, 'page': 4}, {'title': 'Что на данный момент есть на рынке?\\n\\n![5_image_0.png](5_image_0.png)\\n\\n', 'level': 1, 'page': 5}, {'title': 'К чему мы движемся?\\n\\n![6_image_0.png](6_image_0.png)\\n\\n', 'level': 1, 'page': 6}, {'title': 'К чему мы движемся?\\n\\n![7_image_0.png](7_image_0.png)\\n\\n', 'level': 1, 'page': 7}]}\n",
      "--------------------------------\n",
      "0 293\n",
      "3\n",
      "--------------------------------\n",
      "293 608\n",
      "4\n",
      "--------------------------------\n",
      "608 608\n",
      "5\n",
      "--------------------------------\n",
      "608 1521\n",
      "6\n",
      "--------------------------------\n",
      "1521 1521\n",
      "7\n"
     ]
    },
    {
     "name": "stderr",
     "output_type": "stream",
     "text": [
      "Detecting bboxes: 100%|██████████| 30/30 [00:13<00:00,  2.31it/s]\n"
     ]
    }
   ],
   "execution_count": null
  },
  {
   "metadata": {
    "collapsed": true,
    "ExecuteTime": {
     "end_time": "2024-11-09T20:43:12.891301Z",
     "start_time": "2024-11-09T20:43:12.888805Z"
    }
   },
   "cell_type": "code",
   "source": [
    "\n",
    "    \n"
   ],
   "id": "initial_id",
   "outputs": [],
   "execution_count": 2
  },
  {
   "metadata": {
    "ExecuteTime": {
     "end_time": "2024-11-09T20:43:12.902521Z",
     "start_time": "2024-11-09T20:43:12.900189Z"
    }
   },
   "cell_type": "code",
   "source": "",
   "id": "593b35d5f92184cd",
   "outputs": [],
   "execution_count": null
  },
  {
   "metadata": {
    "ExecuteTime": {
     "end_time": "2024-11-09T19:05:59.844724Z",
     "start_time": "2024-11-09T19:05:59.842192Z"
    }
   },
   "cell_type": "code",
   "source": "print(images)",
   "id": "7328c956d2e56407",
   "outputs": [
    {
     "name": "stdout",
     "output_type": "stream",
     "text": [
      "{'1_image_0.png': <PIL.Image.Image image mode=RGB size=187x81 at 0x1C16EC5FF50>, '1_image_1.png': <PIL.Image.Image image mode=RGB size=164x81 at 0x1C16EC5F950>, '1_image_2.png': <PIL.Image.Image image mode=RGB size=179x78 at 0x1C16ECB2F10>, '2_image_0.png': <PIL.Image.Image image mode=RGB size=185x81 at 0x1C16EC52DD0>, '2_image_1.png': <PIL.Image.Image image mode=RGB size=199x82 at 0x1C16EC53010>, '2_image_2.png': <PIL.Image.Image image mode=RGB size=172x82 at 0x1C16EC53050>, '3_image_0.png': <PIL.Image.Image image mode=RGB size=184x80 at 0x1C0D948C350>, '3_image_1.png': <PIL.Image.Image image mode=RGB size=196x82 at 0x1C22C0E0850>, '3_image_2.png': <PIL.Image.Image image mode=RGB size=171x82 at 0x1C22C0E0590>, '4_image_0.png': <PIL.Image.Image image mode=RGB size=180x78 at 0x1C22C0E04D0>, '6_image_0.png': <PIL.Image.Image image mode=RGB size=81x280 at 0x1C16ECB15D0>, '6_image_1.png': <PIL.Image.Image image mode=RGB size=675x318 at 0x1C16ECB0750>, '8_image_0.png': <PIL.Image.Image image mode=RGB size=41x87 at 0x1C16ECB1290>, '8_image_1.png': <PIL.Image.Image image mode=RGB size=149x201 at 0x1C16ECB17D0>, '8_image_2.png': <PIL.Image.Image image mode=RGB size=445x280 at 0x1C16ECB3DD0>, '8_image_3.png': <PIL.Image.Image image mode=RGB size=24x48 at 0x1C16ECB1C90>, '9_image_0.png': <PIL.Image.Image image mode=RGB size=1195x113 at 0x1C16ECB2050>, '9_image_1.png': <PIL.Image.Image image mode=RGB size=541x113 at 0x1C22C0E0390>, '9_image_2.png': <PIL.Image.Image image mode=RGB size=217x111 at 0x1C22C0E0450>, '9_image_3.png': <PIL.Image.Image image mode=RGB size=123x104 at 0x1C22C0E0990>, '10_image_0.png': <PIL.Image.Image image mode=RGB size=283x96 at 0x1C0D5850250>, '10_image_1.png': <PIL.Image.Image image mode=RGB size=893x287 at 0x1C0D5850210>, '11_image_0.png': <PIL.Image.Image image mode=RGB size=173x111 at 0x1C0D5850C50>, '11_image_1.png': <PIL.Image.Image image mode=RGB size=197x111 at 0x1C0D58511D0>, '11_image_2.png': <PIL.Image.Image image mode=RGB size=400x111 at 0x1C0D5851410>, '11_image_3.png': <PIL.Image.Image image mode=RGB size=120x112 at 0x1C0D5851710>, '11_image_4.png': <PIL.Image.Image image mode=RGB size=245x112 at 0x1C0D5851E10>, '11_image_5.png': <PIL.Image.Image image mode=RGB size=405x113 at 0x1C0D5852AD0>, '17_image_0.png': <PIL.Image.Image image mode=RGB size=166x75 at 0x1C0D5850710>, '17_image_1.png': <PIL.Image.Image image mode=RGB size=152x70 at 0x1C0D5850CD0>, '18_image_0.png': <PIL.Image.Image image mode=RGB size=1050x316 at 0x1C1931BEB90>, '19_image_0.png': <PIL.Image.Image image mode=RGB size=187x80 at 0x1C1931BF390>, '20_image_0.png': <PIL.Image.Image image mode=RGB size=143x282 at 0x1C1931BFBD0>, '20_image_1.png': <PIL.Image.Image image mode=RGB size=153x101 at 0x1C1931BE110>, '20_image_2.png': <PIL.Image.Image image mode=RGB size=145x82 at 0x1C1931BF7D0>, '20_image_3.png': <PIL.Image.Image image mode=RGB size=62x36 at 0x1C1931BF610>, '22_image_0.png': <PIL.Image.Image image mode=RGB size=47x7 at 0x1C1931BFCD0>, '22_image_1.png': <PIL.Image.Image image mode=RGB size=34x20 at 0x1C1931BCDD0>, '22_image_2.png': <PIL.Image.Image image mode=RGB size=40x18 at 0x1C1931BC990>}\n"
     ]
    }
   ],
   "execution_count": 25
  },
  {
   "metadata": {
    "ExecuteTime": {
     "end_time": "2024-11-09T19:05:59.937034Z",
     "start_time": "2024-11-09T19:05:59.871898Z"
    }
   },
   "cell_type": "code",
   "source": [
    "from PIL import Image\n",
    "import os\n",
    "\n",
    "# Define the path where images will be saved\n",
    "save_path = \"output_images\"\n",
    "os.makedirs(save_path, exist_ok=True)  # Create directory if it doesn't exist\n",
    "\n",
    "# Save each image if it's a PIL.Image.Image instance\n",
    "for idx, img_index in enumerate(images):\n",
    "    print(img_index)\n",
    "    img = images[img_index]  # Access each image using its index\n",
    "    if isinstance(img, Image.Image):  # Check if the object is a PIL Image\n",
    "        img_path = os.path.join(save_path, f\"image_{img_index}.png\")\n",
    "        img.save(img_path, format=\"PNG\")\n"
   ],
   "id": "bb7bde3d5b3de4bc",
   "outputs": [
    {
     "name": "stdout",
     "output_type": "stream",
     "text": [
      "1_image_0.png\n",
      "Saved image 1_image_0.png at output_images\\image_1_image_0.png.png\n",
      "1_image_1.png\n",
      "Saved image 1_image_1.png at output_images\\image_1_image_1.png.png\n",
      "1_image_2.png\n",
      "Saved image 1_image_2.png at output_images\\image_1_image_2.png.png\n",
      "2_image_0.png\n",
      "Saved image 2_image_0.png at output_images\\image_2_image_0.png.png\n",
      "2_image_1.png\n",
      "Saved image 2_image_1.png at output_images\\image_2_image_1.png.png\n",
      "2_image_2.png\n",
      "Saved image 2_image_2.png at output_images\\image_2_image_2.png.png\n",
      "3_image_0.png\n",
      "Saved image 3_image_0.png at output_images\\image_3_image_0.png.png\n",
      "3_image_1.png\n",
      "Saved image 3_image_1.png at output_images\\image_3_image_1.png.png\n",
      "3_image_2.png\n",
      "Saved image 3_image_2.png at output_images\\image_3_image_2.png.png\n",
      "4_image_0.png\n",
      "Saved image 4_image_0.png at output_images\\image_4_image_0.png.png\n",
      "6_image_0.png\n",
      "Saved image 6_image_0.png at output_images\\image_6_image_0.png.png\n",
      "6_image_1.png\n",
      "Saved image 6_image_1.png at output_images\\image_6_image_1.png.png\n",
      "8_image_0.png\n",
      "Saved image 8_image_0.png at output_images\\image_8_image_0.png.png\n",
      "8_image_1.png\n",
      "Saved image 8_image_1.png at output_images\\image_8_image_1.png.png\n",
      "8_image_2.png\n",
      "Saved image 8_image_2.png at output_images\\image_8_image_2.png.png\n",
      "8_image_3.png\n",
      "Saved image 8_image_3.png at output_images\\image_8_image_3.png.png\n",
      "9_image_0.png\n",
      "Saved image 9_image_0.png at output_images\\image_9_image_0.png.png\n",
      "9_image_1.png\n",
      "Saved image 9_image_1.png at output_images\\image_9_image_1.png.png\n",
      "9_image_2.png\n",
      "Saved image 9_image_2.png at output_images\\image_9_image_2.png.png\n",
      "9_image_3.png\n",
      "Saved image 9_image_3.png at output_images\\image_9_image_3.png.png\n",
      "10_image_0.png\n",
      "Saved image 10_image_0.png at output_images\\image_10_image_0.png.png\n",
      "10_image_1.png\n",
      "Saved image 10_image_1.png at output_images\\image_10_image_1.png.png\n",
      "11_image_0.png\n",
      "Saved image 11_image_0.png at output_images\\image_11_image_0.png.png\n",
      "11_image_1.png\n",
      "Saved image 11_image_1.png at output_images\\image_11_image_1.png.png\n",
      "11_image_2.png\n",
      "Saved image 11_image_2.png at output_images\\image_11_image_2.png.png\n",
      "11_image_3.png\n",
      "Saved image 11_image_3.png at output_images\\image_11_image_3.png.png\n",
      "11_image_4.png\n",
      "Saved image 11_image_4.png at output_images\\image_11_image_4.png.png\n",
      "11_image_5.png\n",
      "Saved image 11_image_5.png at output_images\\image_11_image_5.png.png\n",
      "17_image_0.png\n",
      "Saved image 17_image_0.png at output_images\\image_17_image_0.png.png\n",
      "17_image_1.png\n",
      "Saved image 17_image_1.png at output_images\\image_17_image_1.png.png\n",
      "18_image_0.png\n",
      "Saved image 18_image_0.png at output_images\\image_18_image_0.png.png\n",
      "19_image_0.png\n",
      "Saved image 19_image_0.png at output_images\\image_19_image_0.png.png\n",
      "20_image_0.png\n",
      "Saved image 20_image_0.png at output_images\\image_20_image_0.png.png\n",
      "20_image_1.png\n",
      "Saved image 20_image_1.png at output_images\\image_20_image_1.png.png\n",
      "20_image_2.png\n",
      "Saved image 20_image_2.png at output_images\\image_20_image_2.png.png\n",
      "20_image_3.png\n",
      "Saved image 20_image_3.png at output_images\\image_20_image_3.png.png\n",
      "22_image_0.png\n",
      "Saved image 22_image_0.png at output_images\\image_22_image_0.png.png\n",
      "22_image_1.png\n",
      "Saved image 22_image_1.png at output_images\\image_22_image_1.png.png\n",
      "22_image_2.png\n",
      "Saved image 22_image_2.png at output_images\\image_22_image_2.png.png\n"
     ]
    }
   ],
   "execution_count": 26
  },
  {
   "metadata": {
    "ExecuteTime": {
     "end_time": "2024-11-09T19:06:00.009039Z",
     "start_time": "2024-11-09T19:06:00.007647Z"
    }
   },
   "cell_type": "code",
   "source": "",
   "id": "c424fc6c0bc111e1",
   "outputs": [],
   "execution_count": null
  },
  {
   "metadata": {
    "ExecuteTime": {
     "end_time": "2024-11-09T19:06:00.023152Z",
     "start_time": "2024-11-09T19:06:00.021913Z"
    }
   },
   "cell_type": "code",
   "source": "",
   "id": "fdcba155a0c00a3c",
   "outputs": [],
   "execution_count": null
  },
  {
   "metadata": {},
   "cell_type": "code",
   "outputs": [],
   "execution_count": null,
   "source": "",
   "id": "7971ed4930615652"
  }
 ],
 "metadata": {
  "kernelspec": {
   "display_name": "Python 3",
   "language": "python",
   "name": "python3"
  },
  "language_info": {
   "codemirror_mode": {
    "name": "ipython",
    "version": 2
   },
   "file_extension": ".py",
   "mimetype": "text/x-python",
   "name": "python",
   "nbconvert_exporter": "python",
   "pygments_lexer": "ipython2",
   "version": "2.7.6"
  }
 },
 "nbformat": 4,
 "nbformat_minor": 5
}
