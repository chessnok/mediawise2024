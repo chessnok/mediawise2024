{
 "cells": [
  {
   "cell_type": "code",
   "id": "initial_id",
   "metadata": {
    "collapsed": true,
    "ExecuteTime": {
     "end_time": "2024-11-09T15:29:20.139340Z",
     "start_time": "2024-11-09T15:29:19.590101Z"
    }
   },
   "source": [
    "from langchain_gigachat.chat_models.gigachat import GigaChat\n",
    "from typing import List, Optional, Dict, Any\n",
    "\n",
    "from langchain.output_parsers import PydanticOutputParser\n",
    "from langchain_core.messages import HumanMessage, SystemMessage, AIMessage\n",
    "from langchain_core.prompts import ChatPromptTemplate, MessagesPlaceholder\n",
    "from langchain.memory import ConversationBufferMemory\n",
    "from pydantic import BaseModel, Field\n",
    "from langchain_core.runnables import RunnableLambda\n",
    "import os\n",
    "import json"
   ],
   "outputs": [],
   "execution_count": 1
  },
  {
   "metadata": {
    "ExecuteTime": {
     "end_time": "2024-11-09T15:29:20.147208Z",
     "start_time": "2024-11-09T15:29:20.141345Z"
    }
   },
   "cell_type": "code",
   "source": [
    "class Message(BaseModel):\n",
    "    role: str\n",
    "    content: str\n",
    "\n",
    "class Thread(BaseModel):\n",
    "    id: str\n",
    "    messages: List[Message]\n",
    "\n",
    "class Retrieval(BaseModel):\n",
    "    type: str  # Тип контента: 'text' или 'image'\n",
    "    content: str  # Текст или ссылка на изображение\n",
    "    source: str  # Ссылка на источник данных: txt или pdf\n",
    "    page: Optional[int]  # Номер страницы в pdf\n",
    "    relevance: float  # Релевантность контента\n",
    "\n",
    "class ModelInput(BaseModel):\n",
    "    thread: Thread\n",
    "    retrievals: List[Retrieval]\n",
    "\n",
    "class ModelResponse(BaseModel):\n",
    "    message: str  # Сообщение для отправки пользователю\n",
    "    retrievals: List[Retrieval]"
   ],
   "id": "877498a43ee7238d",
   "outputs": [],
   "execution_count": 2
  },
  {
   "metadata": {
    "ExecuteTime": {
     "end_time": "2024-11-09T15:29:20.437020Z",
     "start_time": "2024-11-09T15:29:20.391095Z"
    }
   },
   "cell_type": "code",
   "source": [
    "llm = GigaChat(\n",
    "    credentials=\"MTEwMzY1YmEtMzYzMy00YWQ1LThmMTQtNWEzODM0NzUwN2IwOjU2ZDlkOGY1LWU0MDUtNDQ2Ni1hNTQyLWU5N2M4MzJmY2FmOA==\",\n",
    "    verify_ssl_certs=False,\n",
    "    timeout=6000,\n",
    "    model=\"GigaChat-preview\",\n",
    "    base_url=\"https://gigachat-preview.devices.sberbank.ru/api/v1\"\n",
    ")"
   ],
   "id": "5459b0785dd351f1",
   "outputs": [],
   "execution_count": 3
  },
  {
   "metadata": {
    "ExecuteTime": {
     "end_time": "2024-11-09T15:29:37.469562Z",
     "start_time": "2024-11-09T15:29:20.844758Z"
    }
   },
   "cell_type": "code",
   "source": [
    "# Папка для сохранения диалогов\n",
    "CHAT_DIR = \"chats\"\n",
    "if not os.path.exists(CHAT_DIR):\n",
    "    os.makedirs(CHAT_DIR)\n",
    "\n",
    "# Словарь для хранения памяти чатов по id\n",
    "chat_memories: Dict[str, ConversationBufferMemory] = {}\n",
    "\n",
    "def save_chat_history(chat_id: str, thread: Thread):\n",
    "    \"\"\"Сохраняет историю чата в формате JSON.\"\"\"\n",
    "    chat_file = os.path.join(CHAT_DIR, f\"{chat_id}.json\")\n",
    "    with open(chat_file, 'w', encoding='utf-8') as f:\n",
    "        json.dump(thread.dict(), f, ensure_ascii=False, indent=2)\n",
    "\n",
    "def load_chat_history(chat_id: str) -> Thread:\n",
    "    \"\"\"Загружает историю чата из файла JSON, если он существует.\"\"\"\n",
    "    chat_file = os.path.join(CHAT_DIR, f\"{chat_id}.json\")\n",
    "    if os.path.exists(chat_file):\n",
    "        with open(chat_file, 'r', encoding='utf-8') as f:\n",
    "            data = json.load(f)\n",
    "            thread = Thread(**data)\n",
    "    else:\n",
    "        thread = Thread(id=chat_id, messages=[])\n",
    "    return thread\n",
    "\n",
    "def handle_message(chat_id: str, user_input: str) -> str:\n",
    "    # Загружаем или создаем новый Thread\n",
    "    thread = load_chat_history(chat_id)\n",
    "    \n",
    "    # Добавляем сообщение пользователя в историю\n",
    "    user_message = Message(role=\"user\", content=user_input)\n",
    "    thread.messages.append(user_message)\n",
    "    \n",
    "    # Подготавливаем историю сообщений для модели\n",
    "    messages = []\n",
    "    for msg in thread.messages:\n",
    "        if msg.role == \"user\":\n",
    "            messages.append(HumanMessage(content=msg.content))\n",
    "        elif msg.role == \"assistant\":\n",
    "            messages.append(AIMessage(content=msg.content))\n",
    "        # Можно добавить обработку других ролей, если необходимо\n",
    "\n",
    "    # Генерируем ответ модели\n",
    "    assistant_response = llm.predict_messages(messages).content\n",
    "\n",
    "    # Здесь можно добавить логику для получения retrievals\n",
    "    # Например, вызвать функцию, которая возвращает список Retrieval\n",
    "    # Для примера добавим пустой список retrievals\n",
    "    retrievals = []  # Замените на вашу реализацию получения retrievals\n",
    "\n",
    "    # Добавляем ответ ассистента в историю\n",
    "    assistant_message = Message(\n",
    "        role=\"assistant\",\n",
    "        content=assistant_response,\n",
    "        retrievals=retrievals if retrievals else None\n",
    "    )\n",
    "    thread.messages.append(assistant_message)\n",
    "\n",
    "    # Сохраняем обновленную историю чата\n",
    "    save_chat_history(chat_id, thread)\n",
    "\n",
    "    # Возвращаем ответ ассистента\n",
    "    return assistant_response\n",
    "\n",
    "# Пример использования\n",
    "if __name__ == \"__main__\":\n",
    "    chat_id = \"thread_001\"\n",
    "    user_message = \"Can you provide insights on this topic?\"\n",
    "    assistant_response = handle_message(chat_id, user_message)\n",
    "    print(f\"Assistant: {assistant_response}\")\n",
    "\n",
    "    # Следующее сообщение в том же чате\n",
    "    user_message = \"Can you elaborate on the trends mentioned?\"\n",
    "    assistant_response = handle_message(chat_id, user_message)\n",
    "    print(f\"Assistant: {assistant_response}\")\n",
    "\n",
    "    # Еще одно сообщение\n",
    "    user_message = \"What are some specific use cases in healthcare?\"\n",
    "    assistant_response = handle_message(chat_id, user_message)\n",
    "    print(f\"Assistant: {assistant_response}\")"
   ],
   "id": "f7b37f0898274947",
   "outputs": [
    {
     "name": "stderr",
     "output_type": "stream",
     "text": [
      "C:\\Users\\Sergey\\AppData\\Local\\Temp\\ipykernel_28256\\1577899394.py:44: LangChainDeprecationWarning: The method `BaseChatModel.predict_messages` was deprecated in langchain-core 0.1.7 and will be removed in 1.0. Use :meth:`~invoke` instead.\n",
      "  assistant_response = llm.predict_messages(messages).content\n"
     ]
    },
    {
     "name": "stdout",
     "output_type": "stream",
     "text": [
      "Assistant: Sure! I'd be glad to help with that. Could you please tell me what specific topic or question you're interested in so I can give more tailored insights?\n",
      "Assistant: Absolutely! Let’s dive into some of the most prominent tech trends shaping various industries today.\n",
      "\n",
      "### 1. **Artificial Intelligence (AI) and Machine Learning**\n",
      "   - **Growth Drivers**: The rapid advancement in AI algorithms and computing power has made it possible for machines to perform complex tasks like image recognition, natural language processing, and decision-making. This is driving innovation across sectors such as healthcare, finance, manufacturing, and autonomous vehicles.\n",
      "   - **Impact**: Companies are leveraging AI to automate processes, improve customer service through chatbots, predict market trends, enhance cybersecurity, and develop personalized products and services.\n",
      "   \n",
      "### 2. **Internet of Things (IoT)**\n",
      "   - **Connectivity Expansion**: IoT devices—ranging from smart home appliances to industrial sensors—are becoming ubiquitous. These interconnected devices generate vast amounts of data, which can be analyzed to optimize operations and improve efficiency.\n",
      "   - **Security Concerns**: With increased connectivity comes heightened security risks. Ensuring robust cyber protection for these networks is a significant challenge but also an opportunity for growth in cybersecurity solutions.\n",
      "\n",
      "### 3. **5G Technology**\n",
      "   - **Faster Speeds and Lower Latency**: 5G promises significantly faster internet speeds compared to its predecessors, enabling real-time communication and supporting emerging technologies like augmented reality (AR), virtual reality (VR), and autonomous cars.\n",
      "   - **Infrastructure Development**: Telecom companies worldwide are investing heavily in building out 5G infrastructure. However, there are still challenges around standardization and global adoption due to varying regulatory environments.\n",
      "\n",
      "### 4. **Cybersecurity**\n",
      "   - **Evolving Threat Landscape**: As digital transformation accelerates, so do cyber threats. Ransomware attacks, phishing scams, and data breaches have become commonplace, necessitating stronger cyber defenses.\n",
      "   - **Proactive Measures**: Organizations are adopting proactive strategies like zero trust architecture, multi-factor authentication, and behavioral analytics to protect their systems and sensitive information.\n",
      "\n",
      "### 5. **Cloud Computing**\n",
      "   - **Scalability and Flexibility**: Cloud platforms allow businesses to scale up or down quickly based on demand, reducing operational costs and improving agility. Hybrid cloud models are gaining traction as organizations seek to balance public and private clouds.\n",
      "   - **Data Management**: Data storage and management are critical aspects of cloud computing. Advanced analytics tools enable better decision-making by extracting meaningful insights from large datasets stored in the cloud.\n",
      "\n",
      "### 6. **Blockchain Technology**\n",
      "   - **Decentralization and Transparency**: Blockchain offers secure, transparent, and tamper-proof record-keeping, making it ideal for applications beyond cryptocurrencies, such as supply chain management, voting systems, and intellectual property rights tracking.\n",
      "   - **Regulatory Challenges**: While blockchain holds immense potential, regulations surrounding its use vary globally, creating both opportunities and hurdles for widespread adoption.\n",
      "\n",
      "These trends highlight how technology continues to reshape our lives and workplaces. They also underscore the importance of staying abreast of new developments and adapting to them effectively to remain competitive in today's fast-paced environment.\n",
      "Assistant: In healthcare, several cutting-edge technologies are being applied to transform patient care, medical research, and administrative processes. Here are some notable examples:\n",
      "\n",
      "### 1. **Artificial Intelligence (AI) in Medical Imaging**\n",
      "   - **Use Case**: AI algorithms can analyze medical images (e.g., X-rays, MRIs, CT scans) much faster than human radiologists. By detecting subtle patterns indicative of diseases like cancer at early stages, AI helps improve diagnostic accuracy and speed up treatment decisions.\n",
      "   - **Benefits**: Reduces human error, increases efficiency, and frees up radiologists to focus on more complex cases.\n",
      "\n",
      "### 2. **Wearable Devices and Remote Patient Monitoring**\n",
      "   - **Use Case**: Wearable devices such as fitness trackers and smartwatches equipped with biometric sensors monitor vital signs like heart rate, blood pressure, and oxygen saturation levels. This continuous monitoring allows patients with chronic conditions to manage their health remotely while providing real-time data to clinicians.\n",
      "   - **Benefits**: Enhances patient engagement, reduces hospital readmissions, and enables timely intervention when anomalies are detected.\n",
      "\n",
      "### 3. **Telemedicine and Virtual Consultations**\n",
      "   - **Use Case**: Through telehealth platforms, patients can consult with physicians remotely via video calls. This approach is particularly beneficial for rural areas where access to specialists may be limited or during times of crisis, such as pandemics.\n",
      "   - **Benefits**: Increases access to quality care, especially for those who cannot easily visit physical clinics, and reduces unnecessary visits to hospitals.\n",
      "\n",
      "### 4. **Precision Medicine**\n",
      "   - **Use Case**: Genomic sequencing combined with AI and big data analytics allows healthcare providers to create highly customized treatment plans based on individual genetic profiles. This precision medicine approach ensures that treatments are more effective and less likely to cause side effects.\n",
      "   - **Benefits**: Tailored therapies lead to improved patient outcomes and reduced healthcare costs associated with trial-and-error treatments.\n",
      "\n",
      "### 5. **Robotic Surgery**\n",
      "   - **Use Case**: Robots assist surgeons in performing minimally invasive procedures with greater precision and control. These robots can operate in tight spaces and make smaller incisions, leading to quicker recovery times for patients.\n",
      "   - **Benefits**: Minimizes surgical errors, shortens hospital stays, and enhances surgical precision.\n",
      "\n",
      "### 6. **Drug Discovery and Clinical Trials**\n",
      "   - **Use Case**: AI models can analyze vast amounts of scientific literature, genomic data, and clinical trial results to identify promising drug candidates and streamline the discovery process. Additionally, AI can match suitable participants with clinical trials, thereby expediting the development of new drugs.\n",
      "   - **Benefits**: Accelerates the drug development cycle, potentially bringing life-saving medicines to market faster.\n",
      "\n",
      "### 7. **Virtual Reality (VR) and Augmented Reality (AR) in Pain Management and Therapy**\n",
      "   - **Use Case**: VR headsets can distract patients from pain perception during medical procedures or postoperative rehabilitation. AR can overlay educational content onto real-world scenarios, helping patients understand complex medical concepts or practice motor skills.\n",
      "   - **Benefits**: Provides non-pharmacological pain relief and supports cognitive rehabilitation.\n",
      "\n",
      "These use cases illustrate how technology is revolutionizing healthcare delivery, making it more efficient, accessible, and precise. As these trends continue to evolve, they hold the promise of further improvements in patient outcomes, cost reduction, and overall health system sustainability.\n"
     ]
    }
   ],
   "execution_count": 4
  },
  {
   "metadata": {
    "ExecuteTime": {
     "end_time": "2024-11-09T15:29:03.864709Z",
     "start_time": "2024-11-09T15:29:03.862602Z"
    }
   },
   "cell_type": "code",
   "source": "",
   "id": "2f014d9b78ee1be",
   "outputs": [],
   "execution_count": null
  },
  {
   "metadata": {},
   "cell_type": "code",
   "outputs": [],
   "execution_count": null,
   "source": "",
   "id": "16b0e30efff682a5"
  },
  {
   "metadata": {},
   "cell_type": "code",
   "outputs": [],
   "execution_count": null,
   "source": "",
   "id": "2dc992408fc777ac"
  },
  {
   "metadata": {},
   "cell_type": "code",
   "outputs": [],
   "execution_count": null,
   "source": "",
   "id": "c8ec2b7823b75ec0"
  },
  {
   "metadata": {
    "ExecuteTime": {
     "end_time": "2024-11-09T14:04:26.832374Z",
     "start_time": "2024-11-09T14:04:20.944493Z"
    }
   },
   "cell_type": "code",
   "source": [
    "# Настраиваем парсер\n",
    "parser = PydanticOutputParser(pydantic_object=ModelResponse)\n",
    "\n",
    "# Функция для подготовки сообщений из URL\n",
    "def _get_messages_from_input(model_input: ModelInput):\n",
    "    thread_messages = [\n",
    "        HumanMessage(content=msg.content)\n",
    "        if msg.role == 'user' else\n",
    "        HumanMessage(content=msg.content, role='assistant')\n",
    "        for msg in model_input.thread.messages\n",
    "    ]\n",
    "    return {\n",
    "        \"history\": thread_messages,\n",
    "        \"retrievals\": model_input.retrievals\n",
    "    }\n",
    "\n",
    "# Создаем шаблон подсказки (prompt)\n",
    "prompt = ChatPromptTemplate.from_messages(\n",
    "    [\n",
    "        (\n",
    "            \"system\",\n",
    "            \"Вы — помощник, который обрабатывает запросы пользователя на основе следующих правил:\\n\"\n",
    "            \"1) Если запрос пользователя — вопросительный, ответьте на вопрос.\\n\"\n",
    "            \"2) Если запрос пользователя — поисковый, опишите содержимое на картинке или в тексте из RAG.\\n\"\n",
    "            \"3) Если в данных из RAG нет нужных данных, сообщите пользователю, что нужные данные не найдены.\\n\\n\"\n",
    "            \"Пожалуйста, предоставьте ваш ответ в следующем формате JSON:\\n{format_instructions}\"\n",
    "        ),\n",
    "        MessagesPlaceholder(\"history\"),\n",
    "    ]\n",
    ").partial(format_instructions=parser.get_format_instructions())\n",
    "\n",
    "# Определяем цепочку\n",
    "chain = (\n",
    "    RunnableLambda(_get_messages_from_input)\n",
    "    | prompt\n",
    "    | llm\n",
    "    | parser\n",
    ")\n",
    "\n",
    "# Пример использования\n",
    "# Загружаем файлы (замените на ваши реальные файлы)\n",
    "file1 = llm.upload_file(open(\"chart1.jpg\", \"rb\"))\n",
    "file2 = llm.upload_file(open(\"chart2.jpg\", \"rb\"))\n",
    "file3 = llm.upload_file(open(\"chart3.jpg\", \"rb\"))\n",
    "\n",
    "# Создаем ModelInput с сообщениями и retrievals\n",
    "model_input_example = ModelInput(\n",
    "    thread=Thread(\n",
    "        id=\"thread_123\",\n",
    "        messages=[\n",
    "            Message(role=\"user\", content=\"Что изображено на этой диаграмме?\"),\n",
    "        ]\n",
    "    ),\n",
    "    retrievals=[\n",
    "        Retrieval(\n",
    "            type=\"image\",\n",
    "            content=file1.id_,  # Используем ID загруженного файла\n",
    "            source=\"chart1.jpg\",\n",
    "            page=None,\n",
    "            relevance=0.9\n",
    "        )\n",
    "    ]\n",
    ")\n",
    "\n",
    "# Генерируем ответ\n",
    "response = chain.invoke(model_input_example)\n",
    "\n",
    "# Выводим результат\n",
    "print(response.message)\n",
    "for retrieval in response.retrievals:\n",
    "    print(f\"Retrieval: {retrieval}\")"
   ],
   "id": "5394af45c4ee7982",
   "outputs": [
    {
     "name": "stdout",
     "output_type": "stream",
     "text": [
      "На этой диаграмме изображен процесс обработки запросов пользователя. Диаграмма показывает, как система обрабатывает различные типы запросов, включая вопросительные, поисковые и другие виды запросов, и какие действия выполняются на каждом этапе.\n"
     ]
    }
   ],
   "execution_count": 4
  }
 ],
 "metadata": {
  "kernelspec": {
   "display_name": "Python 3",
   "language": "python",
   "name": "python3"
  },
  "language_info": {
   "codemirror_mode": {
    "name": "ipython",
    "version": 2
   },
   "file_extension": ".py",
   "mimetype": "text/x-python",
   "name": "python",
   "nbconvert_exporter": "python",
   "pygments_lexer": "ipython2",
   "version": "2.7.6"
  }
 },
 "nbformat": 4,
 "nbformat_minor": 5
}
